{
 "cells": [
  {
   "cell_type": "markdown",
   "metadata": {},
   "source": [
    "# Hamon Evaporation Estimation"
   ]
  },
  {
   "cell_type": "markdown",
   "metadata": {},
   "source": [
    "The goal here is to take in the csv just as it is, and calculate the evaporation values for each month in the dataset. The result would be a table showing the total evaporation for each month in the dataset"
   ]
  },
  {
   "cell_type": "code",
   "execution_count": 1,
   "metadata": {
    "collapsed": true
   },
   "outputs": [],
   "source": [
    "import numpy as np\n",
    "import pandas as pd\n",
    "import math\n",
    "import matplotlib.pyplot as plt\n",
    "import seaborn as sns\n",
    "%matplotlib inline"
   ]
  },
  {
   "cell_type": "code",
   "execution_count": 2,
   "metadata": {},
   "outputs": [
    {
     "data": {
      "text/html": [
       "<div>\n",
       "<style scoped>\n",
       "    .dataframe tbody tr th:only-of-type {\n",
       "        vertical-align: middle;\n",
       "    }\n",
       "\n",
       "    .dataframe tbody tr th {\n",
       "        vertical-align: top;\n",
       "    }\n",
       "\n",
       "    .dataframe thead th {\n",
       "        text-align: right;\n",
       "    }\n",
       "</style>\n",
       "<table border=\"1\" class=\"dataframe\">\n",
       "  <thead>\n",
       "    <tr style=\"text-align: right;\">\n",
       "      <th></th>\n",
       "      <th>Date / Time</th>\n",
       "      <th>AirTC (Avg)</th>\n",
       "      <th>RH</th>\n",
       "      <th>SlrkW (Avg)</th>\n",
       "      <th>SlrjJ (Tot)</th>\n",
       "      <th>WS ms (Avg)</th>\n",
       "      <th>Wind Dir</th>\n",
       "      <th>T108 C (Avg)</th>\n",
       "      <th>HBr3W</th>\n",
       "      <th>Rain mm (Tot)</th>\n",
       "    </tr>\n",
       "  </thead>\n",
       "  <tbody>\n",
       "    <tr>\n",
       "      <th>0</th>\n",
       "      <td>7/17/2014 15:30</td>\n",
       "      <td>26.94</td>\n",
       "      <td>67.85</td>\n",
       "      <td>0.412</td>\n",
       "      <td>609.3776</td>\n",
       "      <td>1.667</td>\n",
       "      <td>335.900</td>\n",
       "      <td>31.21</td>\n",
       "      <td>221.5</td>\n",
       "      <td>0.0</td>\n",
       "    </tr>\n",
       "    <tr>\n",
       "      <th>1</th>\n",
       "      <td>7/17/2014 16:00</td>\n",
       "      <td>26.89</td>\n",
       "      <td>69.88</td>\n",
       "      <td>0.387</td>\n",
       "      <td>696.9075</td>\n",
       "      <td>1.618</td>\n",
       "      <td>59.220</td>\n",
       "      <td>31.45</td>\n",
       "      <td>221.4</td>\n",
       "      <td>0.0</td>\n",
       "    </tr>\n",
       "    <tr>\n",
       "      <th>2</th>\n",
       "      <td>7/17/2014 16:30</td>\n",
       "      <td>26.45</td>\n",
       "      <td>73.05</td>\n",
       "      <td>0.154</td>\n",
       "      <td>277.9549</td>\n",
       "      <td>1.753</td>\n",
       "      <td>52.930</td>\n",
       "      <td>31.25</td>\n",
       "      <td>221.3</td>\n",
       "      <td>0.0</td>\n",
       "    </tr>\n",
       "    <tr>\n",
       "      <th>3</th>\n",
       "      <td>7/17/2014 17:00</td>\n",
       "      <td>26.27</td>\n",
       "      <td>73.78</td>\n",
       "      <td>0.183</td>\n",
       "      <td>328.9092</td>\n",
       "      <td>1.879</td>\n",
       "      <td>2.172</td>\n",
       "      <td>30.91</td>\n",
       "      <td>220.9</td>\n",
       "      <td>0.0</td>\n",
       "    </tr>\n",
       "    <tr>\n",
       "      <th>4</th>\n",
       "      <td>7/17/2014 17:30</td>\n",
       "      <td>25.95</td>\n",
       "      <td>75.34</td>\n",
       "      <td>0.060</td>\n",
       "      <td>107.9211</td>\n",
       "      <td>1.944</td>\n",
       "      <td>33.750</td>\n",
       "      <td>30.47</td>\n",
       "      <td>220.8</td>\n",
       "      <td>0.0</td>\n",
       "    </tr>\n",
       "  </tbody>\n",
       "</table>\n",
       "</div>"
      ],
      "text/plain": [
       "       Date / Time  AirTC (Avg)     RH  SlrkW (Avg)  SlrjJ (Tot)  WS ms (Avg)  \\\n",
       "0  7/17/2014 15:30        26.94  67.85        0.412     609.3776        1.667   \n",
       "1  7/17/2014 16:00        26.89  69.88        0.387     696.9075        1.618   \n",
       "2  7/17/2014 16:30        26.45  73.05        0.154     277.9549        1.753   \n",
       "3  7/17/2014 17:00        26.27  73.78        0.183     328.9092        1.879   \n",
       "4  7/17/2014 17:30        25.95  75.34        0.060     107.9211        1.944   \n",
       "\n",
       "   Wind Dir  T108 C (Avg)  HBr3W  Rain mm (Tot)  \n",
       "0   335.900         31.21  221.5            0.0  \n",
       "1    59.220         31.45  221.4            0.0  \n",
       "2    52.930         31.25  221.3            0.0  \n",
       "3     2.172         30.91  220.9            0.0  \n",
       "4    33.750         30.47  220.8            0.0  "
      ]
     },
     "execution_count": 2,
     "metadata": {},
     "output_type": "execute_result"
    }
   ],
   "source": [
    "hollis = pd.read_csv(\"data/Hollis.csv\")\n",
    "hollis.head()"
   ]
  },
  {
   "cell_type": "code",
   "execution_count": 3,
   "metadata": {},
   "outputs": [
    {
     "data": {
      "text/html": [
       "<div>\n",
       "<style scoped>\n",
       "    .dataframe tbody tr th:only-of-type {\n",
       "        vertical-align: middle;\n",
       "    }\n",
       "\n",
       "    .dataframe tbody tr th {\n",
       "        vertical-align: top;\n",
       "    }\n",
       "\n",
       "    .dataframe thead th {\n",
       "        text-align: right;\n",
       "    }\n",
       "</style>\n",
       "<table border=\"1\" class=\"dataframe\">\n",
       "  <thead>\n",
       "    <tr style=\"text-align: right;\">\n",
       "      <th></th>\n",
       "      <th>AirTC (Avg)</th>\n",
       "      <th>RH</th>\n",
       "      <th>SlrkW (Avg)</th>\n",
       "      <th>SlrjJ (Tot)</th>\n",
       "      <th>WS ms (Avg)</th>\n",
       "      <th>Wind Dir</th>\n",
       "      <th>T108 C (Avg)</th>\n",
       "      <th>HBr3W</th>\n",
       "      <th>Rain mm (Tot)</th>\n",
       "    </tr>\n",
       "  </thead>\n",
       "  <tbody>\n",
       "    <tr>\n",
       "      <th>count</th>\n",
       "      <td>20054.000000</td>\n",
       "      <td>20054.000000</td>\n",
       "      <td>20054.000000</td>\n",
       "      <td>20054.000000</td>\n",
       "      <td>20054.000000</td>\n",
       "      <td>20054.000000</td>\n",
       "      <td>20054.000000</td>\n",
       "      <td>20054.000000</td>\n",
       "      <td>20054.000000</td>\n",
       "    </tr>\n",
       "    <tr>\n",
       "      <th>mean</th>\n",
       "      <td>-0.216621</td>\n",
       "      <td>80.269694</td>\n",
       "      <td>0.174742</td>\n",
       "      <td>314.413236</td>\n",
       "      <td>1.167754</td>\n",
       "      <td>178.645908</td>\n",
       "      <td>27.002141</td>\n",
       "      <td>236.832355</td>\n",
       "      <td>0.170611</td>\n",
       "    </tr>\n",
       "    <tr>\n",
       "      <th>std</th>\n",
       "      <td>25.307773</td>\n",
       "      <td>54.656236</td>\n",
       "      <td>0.262976</td>\n",
       "      <td>473.302872</td>\n",
       "      <td>0.797486</td>\n",
       "      <td>123.386771</td>\n",
       "      <td>2.911931</td>\n",
       "      <td>27.208633</td>\n",
       "      <td>1.073114</td>\n",
       "    </tr>\n",
       "    <tr>\n",
       "      <th>min</th>\n",
       "      <td>-39.500000</td>\n",
       "      <td>0.612000</td>\n",
       "      <td>0.000000</td>\n",
       "      <td>0.000000</td>\n",
       "      <td>0.000000</td>\n",
       "      <td>-0.990000</td>\n",
       "      <td>20.460000</td>\n",
       "      <td>0.548000</td>\n",
       "      <td>0.000000</td>\n",
       "    </tr>\n",
       "    <tr>\n",
       "      <th>25%</th>\n",
       "      <td>-36.300000</td>\n",
       "      <td>7.816250</td>\n",
       "      <td>0.000000</td>\n",
       "      <td>0.000000</td>\n",
       "      <td>0.429000</td>\n",
       "      <td>52.162500</td>\n",
       "      <td>24.770000</td>\n",
       "      <td>212.500000</td>\n",
       "      <td>0.000000</td>\n",
       "    </tr>\n",
       "    <tr>\n",
       "      <th>50%</th>\n",
       "      <td>10.825000</td>\n",
       "      <td>91.100000</td>\n",
       "      <td>0.003000</td>\n",
       "      <td>5.817208</td>\n",
       "      <td>1.087000</td>\n",
       "      <td>186.000000</td>\n",
       "      <td>26.440000</td>\n",
       "      <td>247.500000</td>\n",
       "      <td>0.000000</td>\n",
       "    </tr>\n",
       "    <tr>\n",
       "      <th>75%</th>\n",
       "      <td>21.300000</td>\n",
       "      <td>119.000000</td>\n",
       "      <td>0.294000</td>\n",
       "      <td>528.021650</td>\n",
       "      <td>1.739000</td>\n",
       "      <td>311.000000</td>\n",
       "      <td>28.960000</td>\n",
       "      <td>259.500000</td>\n",
       "      <td>0.000000</td>\n",
       "    </tr>\n",
       "    <tr>\n",
       "      <th>max</th>\n",
       "      <td>30.150000</td>\n",
       "      <td>217.200000</td>\n",
       "      <td>1.150000</td>\n",
       "      <td>2203.842000</td>\n",
       "      <td>4.445000</td>\n",
       "      <td>354.600000</td>\n",
       "      <td>37.270000</td>\n",
       "      <td>301.800000</td>\n",
       "      <td>30.480000</td>\n",
       "    </tr>\n",
       "  </tbody>\n",
       "</table>\n",
       "</div>"
      ],
      "text/plain": [
       "        AirTC (Avg)            RH   SlrkW (Avg)   SlrjJ (Tot)   WS ms (Avg)  \\\n",
       "count  20054.000000  20054.000000  20054.000000  20054.000000  20054.000000   \n",
       "mean      -0.216621     80.269694      0.174742    314.413236      1.167754   \n",
       "std       25.307773     54.656236      0.262976    473.302872      0.797486   \n",
       "min      -39.500000      0.612000      0.000000      0.000000      0.000000   \n",
       "25%      -36.300000      7.816250      0.000000      0.000000      0.429000   \n",
       "50%       10.825000     91.100000      0.003000      5.817208      1.087000   \n",
       "75%       21.300000    119.000000      0.294000    528.021650      1.739000   \n",
       "max       30.150000    217.200000      1.150000   2203.842000      4.445000   \n",
       "\n",
       "           Wind Dir  T108 C (Avg)         HBr3W  Rain mm (Tot)  \n",
       "count  20054.000000  20054.000000  20054.000000   20054.000000  \n",
       "mean     178.645908     27.002141    236.832355       0.170611  \n",
       "std      123.386771      2.911931     27.208633       1.073114  \n",
       "min       -0.990000     20.460000      0.548000       0.000000  \n",
       "25%       52.162500     24.770000    212.500000       0.000000  \n",
       "50%      186.000000     26.440000    247.500000       0.000000  \n",
       "75%      311.000000     28.960000    259.500000       0.000000  \n",
       "max      354.600000     37.270000    301.800000      30.480000  "
      ]
     },
     "execution_count": 3,
     "metadata": {},
     "output_type": "execute_result"
    }
   ],
   "source": [
    "hollis.describe()"
   ]
  },
  {
   "cell_type": "markdown",
   "metadata": {},
   "source": [
    "A few things to note. Readings are taken every 30 minutes, and so that obviously needs to get cut down to days. The Hamon evaporation method only takes into account the sunshine hours and daily average temperature, so I could probably get rid of the other columns for now. "
   ]
  },
  {
   "cell_type": "code",
   "execution_count": 4,
   "metadata": {},
   "outputs": [
    {
     "data": {
      "text/html": [
       "<div>\n",
       "<style scoped>\n",
       "    .dataframe tbody tr th:only-of-type {\n",
       "        vertical-align: middle;\n",
       "    }\n",
       "\n",
       "    .dataframe tbody tr th {\n",
       "        vertical-align: top;\n",
       "    }\n",
       "\n",
       "    .dataframe thead th {\n",
       "        text-align: right;\n",
       "    }\n",
       "</style>\n",
       "<table border=\"1\" class=\"dataframe\">\n",
       "  <thead>\n",
       "    <tr style=\"text-align: right;\">\n",
       "      <th></th>\n",
       "      <th>date</th>\n",
       "      <th>temp</th>\n",
       "    </tr>\n",
       "  </thead>\n",
       "  <tbody>\n",
       "    <tr>\n",
       "      <th>0</th>\n",
       "      <td>7/17/2014 15:30</td>\n",
       "      <td>31.21</td>\n",
       "    </tr>\n",
       "    <tr>\n",
       "      <th>1</th>\n",
       "      <td>7/17/2014 16:00</td>\n",
       "      <td>31.45</td>\n",
       "    </tr>\n",
       "    <tr>\n",
       "      <th>2</th>\n",
       "      <td>7/17/2014 16:30</td>\n",
       "      <td>31.25</td>\n",
       "    </tr>\n",
       "    <tr>\n",
       "      <th>3</th>\n",
       "      <td>7/17/2014 17:00</td>\n",
       "      <td>30.91</td>\n",
       "    </tr>\n",
       "    <tr>\n",
       "      <th>4</th>\n",
       "      <td>7/17/2014 17:30</td>\n",
       "      <td>30.47</td>\n",
       "    </tr>\n",
       "  </tbody>\n",
       "</table>\n",
       "</div>"
      ],
      "text/plain": [
       "              date   temp\n",
       "0  7/17/2014 15:30  31.21\n",
       "1  7/17/2014 16:00  31.45\n",
       "2  7/17/2014 16:30  31.25\n",
       "3  7/17/2014 17:00  30.91\n",
       "4  7/17/2014 17:30  30.47"
      ]
     },
     "execution_count": 4,
     "metadata": {},
     "output_type": "execute_result"
    }
   ],
   "source": [
    "df = hollis[[\"Date / Time\", \"T108 C (Avg)\"]]    #Using pan temp since air temp has some weird values\n",
    "df.columns = ['date', 'temp']\n",
    "df.head()"
   ]
  },
  {
   "cell_type": "markdown",
   "metadata": {},
   "source": [
    "Ok I would like to only have daily data. First I think I need to convert the first column to a date object. Check for any nulls first just in case"
   ]
  },
  {
   "cell_type": "code",
   "execution_count": 5,
   "metadata": {},
   "outputs": [
    {
     "data": {
      "text/plain": [
       "2"
      ]
     },
     "execution_count": 5,
     "metadata": {},
     "output_type": "execute_result"
    }
   ],
   "source": [
    "any_nan = df.columns[df.isnull().any()]\n",
    "len(list(any_nan))"
   ]
  },
  {
   "cell_type": "markdown",
   "metadata": {},
   "source": [
    "Apparently there was a time where the station was down and a note was made. To remove the nulls"
   ]
  },
  {
   "cell_type": "code",
   "execution_count": 6,
   "metadata": {},
   "outputs": [
    {
     "name": "stderr",
     "output_type": "stream",
     "text": [
      "/usr/local/lib/python3.5/dist-packages/ipykernel_launcher.py:1: SettingWithCopyWarning: \n",
      "A value is trying to be set on a copy of a slice from a DataFrame\n",
      "\n",
      "See the caveats in the documentation: http://pandas.pydata.org/pandas-docs/stable/indexing.html#indexing-view-versus-copy\n",
      "  \"\"\"Entry point for launching an IPython kernel.\n"
     ]
    },
    {
     "data": {
      "text/plain": [
       "0"
      ]
     },
     "execution_count": 6,
     "metadata": {},
     "output_type": "execute_result"
    }
   ],
   "source": [
    "df.dropna(axis=0, subset=[\"temp\"], inplace=True)\n",
    "any_nan = df.columns[df.isnull().any()]\n",
    "len(list(any_nan))"
   ]
  },
  {
   "cell_type": "code",
   "execution_count": 7,
   "metadata": {},
   "outputs": [
    {
     "name": "stderr",
     "output_type": "stream",
     "text": [
      "/usr/local/lib/python3.5/dist-packages/ipykernel_launcher.py:1: SettingWithCopyWarning: \n",
      "A value is trying to be set on a copy of a slice from a DataFrame.\n",
      "Try using .loc[row_indexer,col_indexer] = value instead\n",
      "\n",
      "See the caveats in the documentation: http://pandas.pydata.org/pandas-docs/stable/indexing.html#indexing-view-versus-copy\n",
      "  \"\"\"Entry point for launching an IPython kernel.\n"
     ]
    },
    {
     "data": {
      "text/html": [
       "<div>\n",
       "<style scoped>\n",
       "    .dataframe tbody tr th:only-of-type {\n",
       "        vertical-align: middle;\n",
       "    }\n",
       "\n",
       "    .dataframe tbody tr th {\n",
       "        vertical-align: top;\n",
       "    }\n",
       "\n",
       "    .dataframe thead th {\n",
       "        text-align: right;\n",
       "    }\n",
       "</style>\n",
       "<table border=\"1\" class=\"dataframe\">\n",
       "  <thead>\n",
       "    <tr style=\"text-align: right;\">\n",
       "      <th></th>\n",
       "      <th>date</th>\n",
       "      <th>temp</th>\n",
       "    </tr>\n",
       "  </thead>\n",
       "  <tbody>\n",
       "    <tr>\n",
       "      <th>0</th>\n",
       "      <td>2014-07-17</td>\n",
       "      <td>31.21</td>\n",
       "    </tr>\n",
       "    <tr>\n",
       "      <th>1</th>\n",
       "      <td>2014-07-17</td>\n",
       "      <td>31.45</td>\n",
       "    </tr>\n",
       "    <tr>\n",
       "      <th>2</th>\n",
       "      <td>2014-07-17</td>\n",
       "      <td>31.25</td>\n",
       "    </tr>\n",
       "    <tr>\n",
       "      <th>3</th>\n",
       "      <td>2014-07-17</td>\n",
       "      <td>30.91</td>\n",
       "    </tr>\n",
       "    <tr>\n",
       "      <th>4</th>\n",
       "      <td>2014-07-17</td>\n",
       "      <td>30.47</td>\n",
       "    </tr>\n",
       "  </tbody>\n",
       "</table>\n",
       "</div>"
      ],
      "text/plain": [
       "        date   temp\n",
       "0 2014-07-17  31.21\n",
       "1 2014-07-17  31.45\n",
       "2 2014-07-17  31.25\n",
       "3 2014-07-17  30.91\n",
       "4 2014-07-17  30.47"
      ]
     },
     "execution_count": 7,
     "metadata": {},
     "output_type": "execute_result"
    }
   ],
   "source": [
    "df[\"date\"] = pd.to_datetime(df.date).dt.normalize()\n",
    "df.head()"
   ]
  },
  {
   "cell_type": "code",
   "execution_count": 8,
   "metadata": {},
   "outputs": [
    {
     "data": {
      "text/html": [
       "<div>\n",
       "<style scoped>\n",
       "    .dataframe tbody tr th:only-of-type {\n",
       "        vertical-align: middle;\n",
       "    }\n",
       "\n",
       "    .dataframe tbody tr th {\n",
       "        vertical-align: top;\n",
       "    }\n",
       "\n",
       "    .dataframe thead th {\n",
       "        text-align: right;\n",
       "    }\n",
       "</style>\n",
       "<table border=\"1\" class=\"dataframe\">\n",
       "  <thead>\n",
       "    <tr style=\"text-align: right;\">\n",
       "      <th></th>\n",
       "      <th>date</th>\n",
       "      <th>temp</th>\n",
       "    </tr>\n",
       "  </thead>\n",
       "  <tbody>\n",
       "    <tr>\n",
       "      <th>0</th>\n",
       "      <td>2014-07-17</td>\n",
       "      <td>28.745294</td>\n",
       "    </tr>\n",
       "    <tr>\n",
       "      <th>1</th>\n",
       "      <td>2014-07-18</td>\n",
       "      <td>24.944583</td>\n",
       "    </tr>\n",
       "    <tr>\n",
       "      <th>2</th>\n",
       "      <td>2014-07-19</td>\n",
       "      <td>25.877708</td>\n",
       "    </tr>\n",
       "    <tr>\n",
       "      <th>3</th>\n",
       "      <td>2014-07-20</td>\n",
       "      <td>25.772083</td>\n",
       "    </tr>\n",
       "    <tr>\n",
       "      <th>4</th>\n",
       "      <td>2014-07-21</td>\n",
       "      <td>27.385000</td>\n",
       "    </tr>\n",
       "  </tbody>\n",
       "</table>\n",
       "</div>"
      ],
      "text/plain": [
       "        date       temp\n",
       "0 2014-07-17  28.745294\n",
       "1 2014-07-18  24.944583\n",
       "2 2014-07-19  25.877708\n",
       "3 2014-07-20  25.772083\n",
       "4 2014-07-21  27.385000"
      ]
     },
     "execution_count": 8,
     "metadata": {},
     "output_type": "execute_result"
    }
   ],
   "source": [
    "df = df.groupby('date', as_index=False, sort=False)['temp'].mean()\n",
    "df.head()"
   ]
  },
  {
   "cell_type": "code",
   "execution_count": 9,
   "metadata": {},
   "outputs": [
    {
     "data": {
      "text/html": [
       "<div>\n",
       "<style scoped>\n",
       "    .dataframe tbody tr th:only-of-type {\n",
       "        vertical-align: middle;\n",
       "    }\n",
       "\n",
       "    .dataframe tbody tr th {\n",
       "        vertical-align: top;\n",
       "    }\n",
       "\n",
       "    .dataframe thead th {\n",
       "        text-align: right;\n",
       "    }\n",
       "</style>\n",
       "<table border=\"1\" class=\"dataframe\">\n",
       "  <thead>\n",
       "    <tr style=\"text-align: right;\">\n",
       "      <th></th>\n",
       "      <th>temp</th>\n",
       "    </tr>\n",
       "  </thead>\n",
       "  <tbody>\n",
       "    <tr>\n",
       "      <th>count</th>\n",
       "      <td>420.000000</td>\n",
       "    </tr>\n",
       "    <tr>\n",
       "      <th>mean</th>\n",
       "      <td>27.004829</td>\n",
       "    </tr>\n",
       "    <tr>\n",
       "      <th>std</th>\n",
       "      <td>1.336323</td>\n",
       "    </tr>\n",
       "    <tr>\n",
       "      <th>min</th>\n",
       "      <td>23.325000</td>\n",
       "    </tr>\n",
       "    <tr>\n",
       "      <th>25%</th>\n",
       "      <td>25.968125</td>\n",
       "    </tr>\n",
       "    <tr>\n",
       "      <th>50%</th>\n",
       "      <td>26.921667</td>\n",
       "    </tr>\n",
       "    <tr>\n",
       "      <th>75%</th>\n",
       "      <td>28.067812</td>\n",
       "    </tr>\n",
       "    <tr>\n",
       "      <th>max</th>\n",
       "      <td>30.116458</td>\n",
       "    </tr>\n",
       "  </tbody>\n",
       "</table>\n",
       "</div>"
      ],
      "text/plain": [
       "             temp\n",
       "count  420.000000\n",
       "mean    27.004829\n",
       "std      1.336323\n",
       "min     23.325000\n",
       "25%     25.968125\n",
       "50%     26.921667\n",
       "75%     28.067812\n",
       "max     30.116458"
      ]
     },
     "execution_count": 9,
     "metadata": {},
     "output_type": "execute_result"
    }
   ],
   "source": [
    "df['date'] = pd.to_datetime(df.date)\n",
    "df.describe()"
   ]
  },
  {
   "cell_type": "code",
   "execution_count": 10,
   "metadata": {},
   "outputs": [
    {
     "data": {
      "text/plain": [
       "<matplotlib.axes._subplots.AxesSubplot at 0x7f7129227f28>"
      ]
     },
     "execution_count": 10,
     "metadata": {},
     "output_type": "execute_result"
    },
    {
     "data": {
      "image/png": "[encoded data removed]",
      "text/plain": [
       "<Figure size 1152x576 with 1 Axes>"
      ]
     },
     "metadata": {},
     "output_type": "display_data"
    }
   ],
   "source": [
    "df.plot(x='date', y='temp', figsize=(16,8), title='Daily Average Temperature at Hollis')"
   ]
  },
  {
   "cell_type": "markdown",
   "metadata": {},
   "source": [
    "Straight line indicates some missing data in September 2014"
   ]
  },
  {
   "cell_type": "markdown",
   "metadata": {},
   "source": [
    "## Solar Declination "
   ]
  },
  {
   "cell_type": "markdown",
   "metadata": {},
   "source": [
    "Looks like we now have the average temperature of each day. Now to start the formulas. First up is the solar declination delta, given by: \n",
    "\n",
    "\\begin{equation*}\n",
    "\\delta = 0.4093\\sin\\left({2\\pi\\over365}J-1.405\\right)\n",
    "\\end{equation*}\n",
    "\n",
    "where J is the Julian Day, or the number of days from the start of the year in other words. So lets make a column with the Julian day"
   ]
  },
  {
   "cell_type": "code",
   "execution_count": 11,
   "metadata": {},
   "outputs": [
    {
     "data": {
      "text/html": [
       "<div>\n",
       "<style scoped>\n",
       "    .dataframe tbody tr th:only-of-type {\n",
       "        vertical-align: middle;\n",
       "    }\n",
       "\n",
       "    .dataframe tbody tr th {\n",
       "        vertical-align: top;\n",
       "    }\n",
       "\n",
       "    .dataframe thead th {\n",
       "        text-align: right;\n",
       "    }\n",
       "</style>\n",
       "<table border=\"1\" class=\"dataframe\">\n",
       "  <thead>\n",
       "    <tr style=\"text-align: right;\">\n",
       "      <th></th>\n",
       "      <th>date</th>\n",
       "      <th>temp</th>\n",
       "      <th>julian</th>\n",
       "    </tr>\n",
       "  </thead>\n",
       "  <tbody>\n",
       "    <tr>\n",
       "      <th>0</th>\n",
       "      <td>2014-07-17</td>\n",
       "      <td>28.745294</td>\n",
       "      <td>198</td>\n",
       "    </tr>\n",
       "    <tr>\n",
       "      <th>1</th>\n",
       "      <td>2014-07-18</td>\n",
       "      <td>24.944583</td>\n",
       "      <td>199</td>\n",
       "    </tr>\n",
       "    <tr>\n",
       "      <th>2</th>\n",
       "      <td>2014-07-19</td>\n",
       "      <td>25.877708</td>\n",
       "      <td>200</td>\n",
       "    </tr>\n",
       "    <tr>\n",
       "      <th>3</th>\n",
       "      <td>2014-07-20</td>\n",
       "      <td>25.772083</td>\n",
       "      <td>201</td>\n",
       "    </tr>\n",
       "    <tr>\n",
       "      <th>4</th>\n",
       "      <td>2014-07-21</td>\n",
       "      <td>27.385000</td>\n",
       "      <td>202</td>\n",
       "    </tr>\n",
       "  </tbody>\n",
       "</table>\n",
       "</div>"
      ],
      "text/plain": [
       "        date       temp  julian\n",
       "0 2014-07-17  28.745294     198\n",
       "1 2014-07-18  24.944583     199\n",
       "2 2014-07-19  25.877708     200\n",
       "3 2014-07-20  25.772083     201\n",
       "4 2014-07-21  27.385000     202"
      ]
     },
     "execution_count": 11,
     "metadata": {},
     "output_type": "execute_result"
    }
   ],
   "source": [
    "df['julian'] = df['date'].dt.dayofyear\n",
    "df.head()"
   ]
  },
  {
   "cell_type": "code",
   "execution_count": 12,
   "metadata": {},
   "outputs": [
    {
     "data": {
      "text/html": [
       "<div>\n",
       "<style scoped>\n",
       "    .dataframe tbody tr th:only-of-type {\n",
       "        vertical-align: middle;\n",
       "    }\n",
       "\n",
       "    .dataframe tbody tr th {\n",
       "        vertical-align: top;\n",
       "    }\n",
       "\n",
       "    .dataframe thead th {\n",
       "        text-align: right;\n",
       "    }\n",
       "</style>\n",
       "<table border=\"1\" class=\"dataframe\">\n",
       "  <thead>\n",
       "    <tr style=\"text-align: right;\">\n",
       "      <th></th>\n",
       "      <th>date</th>\n",
       "      <th>temp</th>\n",
       "      <th>julian</th>\n",
       "      <th>delta</th>\n",
       "    </tr>\n",
       "  </thead>\n",
       "  <tbody>\n",
       "    <tr>\n",
       "      <th>0</th>\n",
       "      <td>2014-07-17</td>\n",
       "      <td>28.745294</td>\n",
       "      <td>198</td>\n",
       "      <td>0.371592</td>\n",
       "    </tr>\n",
       "    <tr>\n",
       "      <th>1</th>\n",
       "      <td>2014-07-18</td>\n",
       "      <td>24.944583</td>\n",
       "      <td>199</td>\n",
       "      <td>0.368583</td>\n",
       "    </tr>\n",
       "    <tr>\n",
       "      <th>2</th>\n",
       "      <td>2014-07-19</td>\n",
       "      <td>25.877708</td>\n",
       "      <td>200</td>\n",
       "      <td>0.365465</td>\n",
       "    </tr>\n",
       "    <tr>\n",
       "      <th>3</th>\n",
       "      <td>2014-07-20</td>\n",
       "      <td>25.772083</td>\n",
       "      <td>201</td>\n",
       "      <td>0.362239</td>\n",
       "    </tr>\n",
       "    <tr>\n",
       "      <th>4</th>\n",
       "      <td>2014-07-21</td>\n",
       "      <td>27.385000</td>\n",
       "      <td>202</td>\n",
       "      <td>0.358905</td>\n",
       "    </tr>\n",
       "  </tbody>\n",
       "</table>\n",
       "</div>"
      ],
      "text/plain": [
       "        date       temp  julian     delta\n",
       "0 2014-07-17  28.745294     198  0.371592\n",
       "1 2014-07-18  24.944583     199  0.368583\n",
       "2 2014-07-19  25.877708     200  0.365465\n",
       "3 2014-07-20  25.772083     201  0.362239\n",
       "4 2014-07-21  27.385000     202  0.358905"
      ]
     },
     "execution_count": 12,
     "metadata": {},
     "output_type": "execute_result"
    }
   ],
   "source": [
    "df['delta'] = df['julian'].apply(lambda x: 0.4093*math.sin(2*math.pi*x/365-1.405))\n",
    "df.head()"
   ]
  },
  {
   "cell_type": "markdown",
   "metadata": {},
   "source": [
    "## Sunset hour angle"
   ]
  },
  {
   "cell_type": "markdown",
   "metadata": {},
   "source": [
    "The formula is:\n",
    "\n",
    "\\begin{equation*}\n",
    "\\omega = arccos(-tan\\phi(tan\\delta))\n",
    "\\end{equation*}\n",
    "\n",
    "where phi is the latitude of the resevoir in decimal degrees. For Hollis reservoir it is approximately 10.690243. Be sure to convert to radians in the formula"
   ]
  },
  {
   "cell_type": "code",
   "execution_count": 13,
   "metadata": {
    "collapsed": true
   },
   "outputs": [],
   "source": [
    "phi = 10.690243    #latitude of reservoir in decimal degrees"
   ]
  },
  {
   "cell_type": "code",
   "execution_count": 14,
   "metadata": {},
   "outputs": [
    {
     "data": {
      "text/html": [
       "<div>\n",
       "<style scoped>\n",
       "    .dataframe tbody tr th:only-of-type {\n",
       "        vertical-align: middle;\n",
       "    }\n",
       "\n",
       "    .dataframe tbody tr th {\n",
       "        vertical-align: top;\n",
       "    }\n",
       "\n",
       "    .dataframe thead th {\n",
       "        text-align: right;\n",
       "    }\n",
       "</style>\n",
       "<table border=\"1\" class=\"dataframe\">\n",
       "  <thead>\n",
       "    <tr style=\"text-align: right;\">\n",
       "      <th></th>\n",
       "      <th>date</th>\n",
       "      <th>temp</th>\n",
       "      <th>julian</th>\n",
       "      <th>delta</th>\n",
       "      <th>sunset</th>\n",
       "    </tr>\n",
       "  </thead>\n",
       "  <tbody>\n",
       "    <tr>\n",
       "      <th>0</th>\n",
       "      <td>2014-07-17</td>\n",
       "      <td>28.745294</td>\n",
       "      <td>198</td>\n",
       "      <td>0.371592</td>\n",
       "      <td>1.592377</td>\n",
       "    </tr>\n",
       "    <tr>\n",
       "      <th>1</th>\n",
       "      <td>2014-07-18</td>\n",
       "      <td>24.944583</td>\n",
       "      <td>199</td>\n",
       "      <td>0.368583</td>\n",
       "      <td>1.592185</td>\n",
       "    </tr>\n",
       "    <tr>\n",
       "      <th>2</th>\n",
       "      <td>2014-07-19</td>\n",
       "      <td>25.877708</td>\n",
       "      <td>200</td>\n",
       "      <td>0.365465</td>\n",
       "      <td>1.591987</td>\n",
       "    </tr>\n",
       "    <tr>\n",
       "      <th>3</th>\n",
       "      <td>2014-07-20</td>\n",
       "      <td>25.772083</td>\n",
       "      <td>201</td>\n",
       "      <td>0.362239</td>\n",
       "      <td>1.591783</td>\n",
       "    </tr>\n",
       "    <tr>\n",
       "      <th>4</th>\n",
       "      <td>2014-07-21</td>\n",
       "      <td>27.385000</td>\n",
       "      <td>202</td>\n",
       "      <td>0.358905</td>\n",
       "      <td>1.591572</td>\n",
       "    </tr>\n",
       "  </tbody>\n",
       "</table>\n",
       "</div>"
      ],
      "text/plain": [
       "        date       temp  julian     delta    sunset\n",
       "0 2014-07-17  28.745294     198  0.371592  1.592377\n",
       "1 2014-07-18  24.944583     199  0.368583  1.592185\n",
       "2 2014-07-19  25.877708     200  0.365465  1.591987\n",
       "3 2014-07-20  25.772083     201  0.362239  1.591783\n",
       "4 2014-07-21  27.385000     202  0.358905  1.591572"
      ]
     },
     "execution_count": 14,
     "metadata": {},
     "output_type": "execute_result"
    }
   ],
   "source": [
    "df['sunset'] = df['delta'].apply(lambda x: math.acos(-math.radians(math.tan(phi))*math.tan(x)))\n",
    "df.head()"
   ]
  },
  {
   "cell_type": "markdown",
   "metadata": {},
   "source": [
    "## Maximum daylight hours"
   ]
  },
  {
   "cell_type": "markdown",
   "metadata": {},
   "source": [
    "Maximum daylight hours D, is given by:\n",
    "\n",
    "\\begin{equation*}\n",
    "D = {24\\omega\\over\\pi}\n",
    "\\end{equation*}"
   ]
  },
  {
   "cell_type": "code",
   "execution_count": 15,
   "metadata": {},
   "outputs": [
    {
     "data": {
      "text/html": [
       "<div>\n",
       "<style scoped>\n",
       "    .dataframe tbody tr th:only-of-type {\n",
       "        vertical-align: middle;\n",
       "    }\n",
       "\n",
       "    .dataframe tbody tr th {\n",
       "        vertical-align: top;\n",
       "    }\n",
       "\n",
       "    .dataframe thead th {\n",
       "        text-align: right;\n",
       "    }\n",
       "</style>\n",
       "<table border=\"1\" class=\"dataframe\">\n",
       "  <thead>\n",
       "    <tr style=\"text-align: right;\">\n",
       "      <th></th>\n",
       "      <th>date</th>\n",
       "      <th>temp</th>\n",
       "      <th>julian</th>\n",
       "      <th>delta</th>\n",
       "      <th>sunset</th>\n",
       "      <th>daylight</th>\n",
       "    </tr>\n",
       "  </thead>\n",
       "  <tbody>\n",
       "    <tr>\n",
       "      <th>0</th>\n",
       "      <td>2014-07-17</td>\n",
       "      <td>28.745294</td>\n",
       "      <td>198</td>\n",
       "      <td>0.371592</td>\n",
       "      <td>1.592377</td>\n",
       "      <td>12.164865</td>\n",
       "    </tr>\n",
       "    <tr>\n",
       "      <th>1</th>\n",
       "      <td>2014-07-18</td>\n",
       "      <td>24.944583</td>\n",
       "      <td>199</td>\n",
       "      <td>0.368583</td>\n",
       "      <td>1.592185</td>\n",
       "      <td>12.163401</td>\n",
       "    </tr>\n",
       "    <tr>\n",
       "      <th>2</th>\n",
       "      <td>2014-07-19</td>\n",
       "      <td>25.877708</td>\n",
       "      <td>200</td>\n",
       "      <td>0.365465</td>\n",
       "      <td>1.591987</td>\n",
       "      <td>12.161886</td>\n",
       "    </tr>\n",
       "    <tr>\n",
       "      <th>3</th>\n",
       "      <td>2014-07-20</td>\n",
       "      <td>25.772083</td>\n",
       "      <td>201</td>\n",
       "      <td>0.362239</td>\n",
       "      <td>1.591783</td>\n",
       "      <td>12.160323</td>\n",
       "    </tr>\n",
       "    <tr>\n",
       "      <th>4</th>\n",
       "      <td>2014-07-21</td>\n",
       "      <td>27.385000</td>\n",
       "      <td>202</td>\n",
       "      <td>0.358905</td>\n",
       "      <td>1.591572</td>\n",
       "      <td>12.158712</td>\n",
       "    </tr>\n",
       "  </tbody>\n",
       "</table>\n",
       "</div>"
      ],
      "text/plain": [
       "        date       temp  julian     delta    sunset   daylight\n",
       "0 2014-07-17  28.745294     198  0.371592  1.592377  12.164865\n",
       "1 2014-07-18  24.944583     199  0.368583  1.592185  12.163401\n",
       "2 2014-07-19  25.877708     200  0.365465  1.591987  12.161886\n",
       "3 2014-07-20  25.772083     201  0.362239  1.591783  12.160323\n",
       "4 2014-07-21  27.385000     202  0.358905  1.591572  12.158712"
      ]
     },
     "execution_count": 15,
     "metadata": {},
     "output_type": "execute_result"
    }
   ],
   "source": [
    "df['daylight'] = df['sunset'].apply(lambda x: 24*x/math.pi)\n",
    "df.head()"
   ]
  },
  {
   "cell_type": "markdown",
   "metadata": {},
   "source": [
    "## Saturation Vapour Pressure"
   ]
  },
  {
   "cell_type": "markdown",
   "metadata": {},
   "source": [
    "In Kilopascals\n",
    "\n",
    "\\begin{equation*}\n",
    "e_s = 0.6108exp{\\left(17.27T_a \\over 237.3 + T_a\\right)}\n",
    "\\end{equation*}"
   ]
  },
  {
   "cell_type": "code",
   "execution_count": 16,
   "metadata": {},
   "outputs": [
    {
     "data": {
      "text/html": [
       "<div>\n",
       "<style scoped>\n",
       "    .dataframe tbody tr th:only-of-type {\n",
       "        vertical-align: middle;\n",
       "    }\n",
       "\n",
       "    .dataframe tbody tr th {\n",
       "        vertical-align: top;\n",
       "    }\n",
       "\n",
       "    .dataframe thead th {\n",
       "        text-align: right;\n",
       "    }\n",
       "</style>\n",
       "<table border=\"1\" class=\"dataframe\">\n",
       "  <thead>\n",
       "    <tr style=\"text-align: right;\">\n",
       "      <th></th>\n",
       "      <th>date</th>\n",
       "      <th>temp</th>\n",
       "      <th>julian</th>\n",
       "      <th>delta</th>\n",
       "      <th>sunset</th>\n",
       "      <th>daylight</th>\n",
       "      <th>vpressure</th>\n",
       "    </tr>\n",
       "  </thead>\n",
       "  <tbody>\n",
       "    <tr>\n",
       "      <th>0</th>\n",
       "      <td>2014-07-17</td>\n",
       "      <td>28.745294</td>\n",
       "      <td>198</td>\n",
       "      <td>0.371592</td>\n",
       "      <td>1.592377</td>\n",
       "      <td>12.164865</td>\n",
       "      <td>3.947093</td>\n",
       "    </tr>\n",
       "    <tr>\n",
       "      <th>1</th>\n",
       "      <td>2014-07-18</td>\n",
       "      <td>24.944583</td>\n",
       "      <td>199</td>\n",
       "      <td>0.368583</td>\n",
       "      <td>1.592185</td>\n",
       "      <td>12.163401</td>\n",
       "      <td>3.157336</td>\n",
       "    </tr>\n",
       "    <tr>\n",
       "      <th>2</th>\n",
       "      <td>2014-07-19</td>\n",
       "      <td>25.877708</td>\n",
       "      <td>200</td>\n",
       "      <td>0.365465</td>\n",
       "      <td>1.591987</td>\n",
       "      <td>12.161886</td>\n",
       "      <td>3.337216</td>\n",
       "    </tr>\n",
       "    <tr>\n",
       "      <th>3</th>\n",
       "      <td>2014-07-20</td>\n",
       "      <td>25.772083</td>\n",
       "      <td>201</td>\n",
       "      <td>0.362239</td>\n",
       "      <td>1.591783</td>\n",
       "      <td>12.160323</td>\n",
       "      <td>3.316416</td>\n",
       "    </tr>\n",
       "    <tr>\n",
       "      <th>4</th>\n",
       "      <td>2014-07-21</td>\n",
       "      <td>27.385000</td>\n",
       "      <td>202</td>\n",
       "      <td>0.358905</td>\n",
       "      <td>1.591572</td>\n",
       "      <td>12.158712</td>\n",
       "      <td>3.646667</td>\n",
       "    </tr>\n",
       "  </tbody>\n",
       "</table>\n",
       "</div>"
      ],
      "text/plain": [
       "        date       temp  julian     delta    sunset   daylight  vpressure\n",
       "0 2014-07-17  28.745294     198  0.371592  1.592377  12.164865   3.947093\n",
       "1 2014-07-18  24.944583     199  0.368583  1.592185  12.163401   3.157336\n",
       "2 2014-07-19  25.877708     200  0.365465  1.591987  12.161886   3.337216\n",
       "3 2014-07-20  25.772083     201  0.362239  1.591783  12.160323   3.316416\n",
       "4 2014-07-21  27.385000     202  0.358905  1.591572  12.158712   3.646667"
      ]
     },
     "execution_count": 16,
     "metadata": {},
     "output_type": "execute_result"
    }
   ],
   "source": [
    "df['vpressure'] = df['temp'].apply(lambda x: 0.6108*math.exp((17.27*x)/(237.3+x)))\n",
    "df.head()"
   ]
  },
  {
   "cell_type": "markdown",
   "metadata": {},
   "source": [
    "## Celsius to Kelvins"
   ]
  },
  {
   "cell_type": "markdown",
   "metadata": {},
   "source": [
    "This doesn't need an explanation"
   ]
  },
  {
   "cell_type": "code",
   "execution_count": 17,
   "metadata": {},
   "outputs": [
    {
     "data": {
      "text/html": [
       "<div>\n",
       "<style scoped>\n",
       "    .dataframe tbody tr th:only-of-type {\n",
       "        vertical-align: middle;\n",
       "    }\n",
       "\n",
       "    .dataframe tbody tr th {\n",
       "        vertical-align: top;\n",
       "    }\n",
       "\n",
       "    .dataframe thead th {\n",
       "        text-align: right;\n",
       "    }\n",
       "</style>\n",
       "<table border=\"1\" class=\"dataframe\">\n",
       "  <thead>\n",
       "    <tr style=\"text-align: right;\">\n",
       "      <th></th>\n",
       "      <th>date</th>\n",
       "      <th>temp</th>\n",
       "      <th>julian</th>\n",
       "      <th>delta</th>\n",
       "      <th>sunset</th>\n",
       "      <th>daylight</th>\n",
       "      <th>vpressure</th>\n",
       "      <th>kelvin</th>\n",
       "    </tr>\n",
       "  </thead>\n",
       "  <tbody>\n",
       "    <tr>\n",
       "      <th>0</th>\n",
       "      <td>2014-07-17</td>\n",
       "      <td>28.745294</td>\n",
       "      <td>198</td>\n",
       "      <td>0.371592</td>\n",
       "      <td>1.592377</td>\n",
       "      <td>12.164865</td>\n",
       "      <td>3.947093</td>\n",
       "      <td>301.895294</td>\n",
       "    </tr>\n",
       "    <tr>\n",
       "      <th>1</th>\n",
       "      <td>2014-07-18</td>\n",
       "      <td>24.944583</td>\n",
       "      <td>199</td>\n",
       "      <td>0.368583</td>\n",
       "      <td>1.592185</td>\n",
       "      <td>12.163401</td>\n",
       "      <td>3.157336</td>\n",
       "      <td>298.094583</td>\n",
       "    </tr>\n",
       "    <tr>\n",
       "      <th>2</th>\n",
       "      <td>2014-07-19</td>\n",
       "      <td>25.877708</td>\n",
       "      <td>200</td>\n",
       "      <td>0.365465</td>\n",
       "      <td>1.591987</td>\n",
       "      <td>12.161886</td>\n",
       "      <td>3.337216</td>\n",
       "      <td>299.027708</td>\n",
       "    </tr>\n",
       "    <tr>\n",
       "      <th>3</th>\n",
       "      <td>2014-07-20</td>\n",
       "      <td>25.772083</td>\n",
       "      <td>201</td>\n",
       "      <td>0.362239</td>\n",
       "      <td>1.591783</td>\n",
       "      <td>12.160323</td>\n",
       "      <td>3.316416</td>\n",
       "      <td>298.922083</td>\n",
       "    </tr>\n",
       "    <tr>\n",
       "      <th>4</th>\n",
       "      <td>2014-07-21</td>\n",
       "      <td>27.385000</td>\n",
       "      <td>202</td>\n",
       "      <td>0.358905</td>\n",
       "      <td>1.591572</td>\n",
       "      <td>12.158712</td>\n",
       "      <td>3.646667</td>\n",
       "      <td>300.535000</td>\n",
       "    </tr>\n",
       "  </tbody>\n",
       "</table>\n",
       "</div>"
      ],
      "text/plain": [
       "        date       temp  julian     delta    sunset   daylight  vpressure  \\\n",
       "0 2014-07-17  28.745294     198  0.371592  1.592377  12.164865   3.947093   \n",
       "1 2014-07-18  24.944583     199  0.368583  1.592185  12.163401   3.157336   \n",
       "2 2014-07-19  25.877708     200  0.365465  1.591987  12.161886   3.337216   \n",
       "3 2014-07-20  25.772083     201  0.362239  1.591783  12.160323   3.316416   \n",
       "4 2014-07-21  27.385000     202  0.358905  1.591572  12.158712   3.646667   \n",
       "\n",
       "       kelvin  \n",
       "0  301.895294  \n",
       "1  298.094583  \n",
       "2  299.027708  \n",
       "3  298.922083  \n",
       "4  300.535000  "
      ]
     },
     "execution_count": 17,
     "metadata": {},
     "output_type": "execute_result"
    }
   ],
   "source": [
    "df['kelvin'] = df['temp']+273.15\n",
    "df.head()"
   ]
  },
  {
   "cell_type": "markdown",
   "metadata": {},
   "source": [
    "## Saturation Vapour Density"
   ]
  },
  {
   "cell_type": "markdown",
   "metadata": {},
   "source": [
    "\\begin{equation*}\n",
    "SVD = 2166.74\\left(e_s\\over T_a\\right)\n",
    "\\end{equation*}\n",
    "\n",
    "SVD is in grams per cubic meter and T<sub>a</sub> is in kelvins"
   ]
  },
  {
   "cell_type": "code",
   "execution_count": 18,
   "metadata": {},
   "outputs": [
    {
     "data": {
      "text/html": [
       "<div>\n",
       "<style scoped>\n",
       "    .dataframe tbody tr th:only-of-type {\n",
       "        vertical-align: middle;\n",
       "    }\n",
       "\n",
       "    .dataframe tbody tr th {\n",
       "        vertical-align: top;\n",
       "    }\n",
       "\n",
       "    .dataframe thead th {\n",
       "        text-align: right;\n",
       "    }\n",
       "</style>\n",
       "<table border=\"1\" class=\"dataframe\">\n",
       "  <thead>\n",
       "    <tr style=\"text-align: right;\">\n",
       "      <th></th>\n",
       "      <th>date</th>\n",
       "      <th>temp</th>\n",
       "      <th>julian</th>\n",
       "      <th>delta</th>\n",
       "      <th>sunset</th>\n",
       "      <th>daylight</th>\n",
       "      <th>vpressure</th>\n",
       "      <th>kelvin</th>\n",
       "      <th>SVD</th>\n",
       "    </tr>\n",
       "  </thead>\n",
       "  <tbody>\n",
       "    <tr>\n",
       "      <th>0</th>\n",
       "      <td>2014-07-17</td>\n",
       "      <td>28.745294</td>\n",
       "      <td>198</td>\n",
       "      <td>0.371592</td>\n",
       "      <td>1.592377</td>\n",
       "      <td>12.164865</td>\n",
       "      <td>3.947093</td>\n",
       "      <td>301.895294</td>\n",
       "      <td>28.328777</td>\n",
       "    </tr>\n",
       "    <tr>\n",
       "      <th>1</th>\n",
       "      <td>2014-07-18</td>\n",
       "      <td>24.944583</td>\n",
       "      <td>199</td>\n",
       "      <td>0.368583</td>\n",
       "      <td>1.592185</td>\n",
       "      <td>12.163401</td>\n",
       "      <td>3.157336</td>\n",
       "      <td>298.094583</td>\n",
       "      <td>22.949517</td>\n",
       "    </tr>\n",
       "    <tr>\n",
       "      <th>2</th>\n",
       "      <td>2014-07-19</td>\n",
       "      <td>25.877708</td>\n",
       "      <td>200</td>\n",
       "      <td>0.365465</td>\n",
       "      <td>1.591987</td>\n",
       "      <td>12.161886</td>\n",
       "      <td>3.337216</td>\n",
       "      <td>299.027708</td>\n",
       "      <td>24.181302</td>\n",
       "    </tr>\n",
       "    <tr>\n",
       "      <th>3</th>\n",
       "      <td>2014-07-20</td>\n",
       "      <td>25.772083</td>\n",
       "      <td>201</td>\n",
       "      <td>0.362239</td>\n",
       "      <td>1.591783</td>\n",
       "      <td>12.160323</td>\n",
       "      <td>3.316416</td>\n",
       "      <td>298.922083</td>\n",
       "      <td>24.039079</td>\n",
       "    </tr>\n",
       "    <tr>\n",
       "      <th>4</th>\n",
       "      <td>2014-07-21</td>\n",
       "      <td>27.385000</td>\n",
       "      <td>202</td>\n",
       "      <td>0.358905</td>\n",
       "      <td>1.591572</td>\n",
       "      <td>12.158712</td>\n",
       "      <td>3.646667</td>\n",
       "      <td>300.535000</td>\n",
       "      <td>26.291043</td>\n",
       "    </tr>\n",
       "  </tbody>\n",
       "</table>\n",
       "</div>"
      ],
      "text/plain": [
       "        date       temp  julian     delta    sunset   daylight  vpressure  \\\n",
       "0 2014-07-17  28.745294     198  0.371592  1.592377  12.164865   3.947093   \n",
       "1 2014-07-18  24.944583     199  0.368583  1.592185  12.163401   3.157336   \n",
       "2 2014-07-19  25.877708     200  0.365465  1.591987  12.161886   3.337216   \n",
       "3 2014-07-20  25.772083     201  0.362239  1.591783  12.160323   3.316416   \n",
       "4 2014-07-21  27.385000     202  0.358905  1.591572  12.158712   3.646667   \n",
       "\n",
       "       kelvin        SVD  \n",
       "0  301.895294  28.328777  \n",
       "1  298.094583  22.949517  \n",
       "2  299.027708  24.181302  \n",
       "3  298.922083  24.039079  \n",
       "4  300.535000  26.291043  "
      ]
     },
     "execution_count": 18,
     "metadata": {},
     "output_type": "execute_result"
    }
   ],
   "source": [
    "df['SVD'] = 2166.74*(df['vpressure']/df['kelvin'])\n",
    "df.head()"
   ]
  },
  {
   "cell_type": "markdown",
   "metadata": {},
   "source": [
    "## Evaporation"
   ]
  },
  {
   "cell_type": "markdown",
   "metadata": {},
   "source": [
    "\\begin{equation*}\n",
    "E = 0.55\\left(D\\over 12\\right)^2 \\left(SVD\\over 100\\right)\n",
    "\\end{equation*}\n",
    "\n",
    "where E is in inches per day. I don't know what's with all these unit changes. I'll convert it to mm one time"
   ]
  },
  {
   "cell_type": "code",
   "execution_count": 19,
   "metadata": {},
   "outputs": [
    {
     "data": {
      "text/html": [
       "<div>\n",
       "<style scoped>\n",
       "    .dataframe tbody tr th:only-of-type {\n",
       "        vertical-align: middle;\n",
       "    }\n",
       "\n",
       "    .dataframe tbody tr th {\n",
       "        vertical-align: top;\n",
       "    }\n",
       "\n",
       "    .dataframe thead th {\n",
       "        text-align: right;\n",
       "    }\n",
       "</style>\n",
       "<table border=\"1\" class=\"dataframe\">\n",
       "  <thead>\n",
       "    <tr style=\"text-align: right;\">\n",
       "      <th></th>\n",
       "      <th>date</th>\n",
       "      <th>temp</th>\n",
       "      <th>julian</th>\n",
       "      <th>delta</th>\n",
       "      <th>sunset</th>\n",
       "      <th>daylight</th>\n",
       "      <th>vpressure</th>\n",
       "      <th>kelvin</th>\n",
       "      <th>SVD</th>\n",
       "      <th>E</th>\n",
       "    </tr>\n",
       "  </thead>\n",
       "  <tbody>\n",
       "    <tr>\n",
       "      <th>0</th>\n",
       "      <td>2014-07-17</td>\n",
       "      <td>28.745294</td>\n",
       "      <td>198</td>\n",
       "      <td>0.371592</td>\n",
       "      <td>1.592377</td>\n",
       "      <td>12.164865</td>\n",
       "      <td>3.947093</td>\n",
       "      <td>301.895294</td>\n",
       "      <td>28.328777</td>\n",
       "      <td>4.067020</td>\n",
       "    </tr>\n",
       "    <tr>\n",
       "      <th>1</th>\n",
       "      <td>2014-07-18</td>\n",
       "      <td>24.944583</td>\n",
       "      <td>199</td>\n",
       "      <td>0.368583</td>\n",
       "      <td>1.592185</td>\n",
       "      <td>12.163401</td>\n",
       "      <td>3.157336</td>\n",
       "      <td>298.094583</td>\n",
       "      <td>22.949517</td>\n",
       "      <td>3.293954</td>\n",
       "    </tr>\n",
       "    <tr>\n",
       "      <th>2</th>\n",
       "      <td>2014-07-19</td>\n",
       "      <td>25.877708</td>\n",
       "      <td>200</td>\n",
       "      <td>0.365465</td>\n",
       "      <td>1.591987</td>\n",
       "      <td>12.161886</td>\n",
       "      <td>3.337216</td>\n",
       "      <td>299.027708</td>\n",
       "      <td>24.181302</td>\n",
       "      <td>3.469888</td>\n",
       "    </tr>\n",
       "    <tr>\n",
       "      <th>3</th>\n",
       "      <td>2014-07-20</td>\n",
       "      <td>25.772083</td>\n",
       "      <td>201</td>\n",
       "      <td>0.362239</td>\n",
       "      <td>1.591783</td>\n",
       "      <td>12.160323</td>\n",
       "      <td>3.316416</td>\n",
       "      <td>298.922083</td>\n",
       "      <td>24.039079</td>\n",
       "      <td>3.448593</td>\n",
       "    </tr>\n",
       "    <tr>\n",
       "      <th>4</th>\n",
       "      <td>2014-07-21</td>\n",
       "      <td>27.385000</td>\n",
       "      <td>202</td>\n",
       "      <td>0.358905</td>\n",
       "      <td>1.591572</td>\n",
       "      <td>12.158712</td>\n",
       "      <td>3.646667</td>\n",
       "      <td>300.535000</td>\n",
       "      <td>26.291043</td>\n",
       "      <td>3.770656</td>\n",
       "    </tr>\n",
       "  </tbody>\n",
       "</table>\n",
       "</div>"
      ],
      "text/plain": [
       "        date       temp  julian     delta    sunset   daylight  vpressure  \\\n",
       "0 2014-07-17  28.745294     198  0.371592  1.592377  12.164865   3.947093   \n",
       "1 2014-07-18  24.944583     199  0.368583  1.592185  12.163401   3.157336   \n",
       "2 2014-07-19  25.877708     200  0.365465  1.591987  12.161886   3.337216   \n",
       "3 2014-07-20  25.772083     201  0.362239  1.591783  12.160323   3.316416   \n",
       "4 2014-07-21  27.385000     202  0.358905  1.591572  12.158712   3.646667   \n",
       "\n",
       "       kelvin        SVD         E  \n",
       "0  301.895294  28.328777  4.067020  \n",
       "1  298.094583  22.949517  3.293954  \n",
       "2  299.027708  24.181302  3.469888  \n",
       "3  298.922083  24.039079  3.448593  \n",
       "4  300.535000  26.291043  3.770656  "
      ]
     },
     "execution_count": 19,
     "metadata": {},
     "output_type": "execute_result"
    }
   ],
   "source": [
    "df['E'] = 0.55*((df['daylight']/12)**2)*(df['SVD']/100)*25.4\n",
    "df.head()"
   ]
  },
  {
   "cell_type": "markdown",
   "metadata": {},
   "source": [
    "Now we have estimated daily evaporation values."
   ]
  },
  {
   "cell_type": "markdown",
   "metadata": {},
   "source": [
    "## Monthly Evaporation"
   ]
  },
  {
   "cell_type": "code",
   "execution_count": 20,
   "metadata": {},
   "outputs": [
    {
     "data": {
      "text/html": [
       "<div>\n",
       "<style scoped>\n",
       "    .dataframe tbody tr th:only-of-type {\n",
       "        vertical-align: middle;\n",
       "    }\n",
       "\n",
       "    .dataframe tbody tr th {\n",
       "        vertical-align: top;\n",
       "    }\n",
       "\n",
       "    .dataframe thead th {\n",
       "        text-align: right;\n",
       "    }\n",
       "</style>\n",
       "<table border=\"1\" class=\"dataframe\">\n",
       "  <thead>\n",
       "    <tr style=\"text-align: right;\">\n",
       "      <th></th>\n",
       "      <th>E</th>\n",
       "    </tr>\n",
       "    <tr>\n",
       "      <th>date</th>\n",
       "      <th></th>\n",
       "    </tr>\n",
       "  </thead>\n",
       "  <tbody>\n",
       "    <tr>\n",
       "      <th>2014-07-17</th>\n",
       "      <td>4.067020</td>\n",
       "    </tr>\n",
       "    <tr>\n",
       "      <th>2014-07-18</th>\n",
       "      <td>3.293954</td>\n",
       "    </tr>\n",
       "    <tr>\n",
       "      <th>2014-07-19</th>\n",
       "      <td>3.469888</td>\n",
       "    </tr>\n",
       "    <tr>\n",
       "      <th>2014-07-20</th>\n",
       "      <td>3.448593</td>\n",
       "    </tr>\n",
       "    <tr>\n",
       "      <th>2014-07-21</th>\n",
       "      <td>3.770656</td>\n",
       "    </tr>\n",
       "  </tbody>\n",
       "</table>\n",
       "</div>"
      ],
      "text/plain": [
       "                   E\n",
       "date                \n",
       "2014-07-17  4.067020\n",
       "2014-07-18  3.293954\n",
       "2014-07-19  3.469888\n",
       "2014-07-20  3.448593\n",
       "2014-07-21  3.770656"
      ]
     },
     "execution_count": 20,
     "metadata": {},
     "output_type": "execute_result"
    }
   ],
   "source": [
    "month_df = df[['date', 'E']]\n",
    "month_df.set_index('date', inplace=True)\n",
    "month_df.head()"
   ]
  },
  {
   "cell_type": "code",
   "execution_count": 21,
   "metadata": {},
   "outputs": [
    {
     "data": {
      "text/html": [
       "<div>\n",
       "<style scoped>\n",
       "    .dataframe tbody tr th:only-of-type {\n",
       "        vertical-align: middle;\n",
       "    }\n",
       "\n",
       "    .dataframe tbody tr th {\n",
       "        vertical-align: top;\n",
       "    }\n",
       "\n",
       "    .dataframe thead th {\n",
       "        text-align: right;\n",
       "    }\n",
       "</style>\n",
       "<table border=\"1\" class=\"dataframe\">\n",
       "  <thead>\n",
       "    <tr style=\"text-align: right;\">\n",
       "      <th></th>\n",
       "      <th>E</th>\n",
       "    </tr>\n",
       "    <tr>\n",
       "      <th>date</th>\n",
       "      <th></th>\n",
       "    </tr>\n",
       "  </thead>\n",
       "  <tbody>\n",
       "    <tr>\n",
       "      <th>2014-07-31</th>\n",
       "      <td>56.776961</td>\n",
       "    </tr>\n",
       "    <tr>\n",
       "      <th>2014-08-31</th>\n",
       "      <td>118.274630</td>\n",
       "    </tr>\n",
       "    <tr>\n",
       "      <th>2014-09-30</th>\n",
       "      <td>3.686294</td>\n",
       "    </tr>\n",
       "    <tr>\n",
       "      <th>2014-10-31</th>\n",
       "      <td>92.720948</td>\n",
       "    </tr>\n",
       "    <tr>\n",
       "      <th>2014-11-30</th>\n",
       "      <td>98.963824</td>\n",
       "    </tr>\n",
       "  </tbody>\n",
       "</table>\n",
       "</div>"
      ],
      "text/plain": [
       "                     E\n",
       "date                  \n",
       "2014-07-31   56.776961\n",
       "2014-08-31  118.274630\n",
       "2014-09-30    3.686294\n",
       "2014-10-31   92.720948\n",
       "2014-11-30   98.963824"
      ]
     },
     "execution_count": 21,
     "metadata": {},
     "output_type": "execute_result"
    }
   ],
   "source": [
    "month_df_sum = month_df.groupby(pd.Grouper(freq=\"M\")).sum()\n",
    "month_df_sum.head()"
   ]
  },
  {
   "cell_type": "code",
   "execution_count": 22,
   "metadata": {},
   "outputs": [
    {
     "data": {
      "text/html": [
       "<div>\n",
       "<style scoped>\n",
       "    .dataframe tbody tr th:only-of-type {\n",
       "        vertical-align: middle;\n",
       "    }\n",
       "\n",
       "    .dataframe tbody tr th {\n",
       "        vertical-align: top;\n",
       "    }\n",
       "\n",
       "    .dataframe thead th {\n",
       "        text-align: right;\n",
       "    }\n",
       "</style>\n",
       "<table border=\"1\" class=\"dataframe\">\n",
       "  <thead>\n",
       "    <tr style=\"text-align: right;\">\n",
       "      <th></th>\n",
       "      <th>E</th>\n",
       "    </tr>\n",
       "  </thead>\n",
       "  <tbody>\n",
       "    <tr>\n",
       "      <th>count</th>\n",
       "      <td>16.000000</td>\n",
       "    </tr>\n",
       "    <tr>\n",
       "      <th>mean</th>\n",
       "      <td>94.896673</td>\n",
       "    </tr>\n",
       "    <tr>\n",
       "      <th>std</th>\n",
       "      <td>31.838822</td>\n",
       "    </tr>\n",
       "    <tr>\n",
       "      <th>min</th>\n",
       "      <td>3.686294</td>\n",
       "    </tr>\n",
       "    <tr>\n",
       "      <th>25%</th>\n",
       "      <td>92.975482</td>\n",
       "    </tr>\n",
       "    <tr>\n",
       "      <th>50%</th>\n",
       "      <td>103.838681</td>\n",
       "    </tr>\n",
       "    <tr>\n",
       "      <th>75%</th>\n",
       "      <td>116.998409</td>\n",
       "    </tr>\n",
       "    <tr>\n",
       "      <th>max</th>\n",
       "      <td>123.755762</td>\n",
       "    </tr>\n",
       "  </tbody>\n",
       "</table>\n",
       "</div>"
      ],
      "text/plain": [
       "                E\n",
       "count   16.000000\n",
       "mean    94.896673\n",
       "std     31.838822\n",
       "min      3.686294\n",
       "25%     92.975482\n",
       "50%    103.838681\n",
       "75%    116.998409\n",
       "max    123.755762"
      ]
     },
     "execution_count": 22,
     "metadata": {},
     "output_type": "execute_result"
    }
   ],
   "source": [
    "month_df_sum.describe()"
   ]
  },
  {
   "cell_type": "code",
   "execution_count": 23,
   "metadata": {},
   "outputs": [
    {
     "data": {
      "text/plain": [
       "<matplotlib.axes._subplots.AxesSubplot at 0x7f711cec2cc0>"
      ]
     },
     "execution_count": 23,
     "metadata": {},
     "output_type": "execute_result"
    },
    {
     "data": {
      "image/png": "[encoded data removed]",
      "text/plain": [
       "<Figure size 1152x576 with 1 Axes>"
      ]
     },
     "metadata": {},
     "output_type": "display_data"
    }
   ],
   "source": [
    "month_df_sum.plot(figsize=(16,8))"
   ]
  },
  {
   "cell_type": "markdown",
   "metadata": {},
   "source": [
    "We have the problem of incomplete months to deal with, as shown by the drastic changes. Maybe find the mean?"
   ]
  },
  {
   "cell_type": "code",
   "execution_count": 24,
   "metadata": {
    "scrolled": true
   },
   "outputs": [
    {
     "data": {
      "text/html": [
       "<div>\n",
       "<style scoped>\n",
       "    .dataframe tbody tr th:only-of-type {\n",
       "        vertical-align: middle;\n",
       "    }\n",
       "\n",
       "    .dataframe tbody tr th {\n",
       "        vertical-align: top;\n",
       "    }\n",
       "\n",
       "    .dataframe thead th {\n",
       "        text-align: right;\n",
       "    }\n",
       "</style>\n",
       "<table border=\"1\" class=\"dataframe\">\n",
       "  <thead>\n",
       "    <tr style=\"text-align: right;\">\n",
       "      <th></th>\n",
       "      <th>E</th>\n",
       "    </tr>\n",
       "    <tr>\n",
       "      <th>date</th>\n",
       "      <th></th>\n",
       "    </tr>\n",
       "  </thead>\n",
       "  <tbody>\n",
       "    <tr>\n",
       "      <th>2014-07-31</th>\n",
       "      <td>3.785131</td>\n",
       "    </tr>\n",
       "    <tr>\n",
       "      <th>2014-08-31</th>\n",
       "      <td>3.815311</td>\n",
       "    </tr>\n",
       "    <tr>\n",
       "      <th>2014-09-30</th>\n",
       "      <td>3.686294</td>\n",
       "    </tr>\n",
       "    <tr>\n",
       "      <th>2014-10-31</th>\n",
       "      <td>3.708838</td>\n",
       "    </tr>\n",
       "    <tr>\n",
       "      <th>2014-11-30</th>\n",
       "      <td>3.298794</td>\n",
       "    </tr>\n",
       "  </tbody>\n",
       "</table>\n",
       "</div>"
      ],
      "text/plain": [
       "                   E\n",
       "date                \n",
       "2014-07-31  3.785131\n",
       "2014-08-31  3.815311\n",
       "2014-09-30  3.686294\n",
       "2014-10-31  3.708838\n",
       "2014-11-30  3.298794"
      ]
     },
     "execution_count": 24,
     "metadata": {},
     "output_type": "execute_result"
    }
   ],
   "source": [
    "month_df_avg = month_df.groupby(pd.Grouper(freq=\"M\")).mean()\n",
    "month_df_avg.head()"
   ]
  },
  {
   "cell_type": "code",
   "execution_count": 25,
   "metadata": {},
   "outputs": [
    {
     "data": {
      "text/plain": [
       "<matplotlib.axes._subplots.AxesSubplot at 0x7f711ce8de10>"
      ]
     },
     "execution_count": 25,
     "metadata": {},
     "output_type": "execute_result"
    },
    {
     "data": {
      "image/png": "[encoded data removed]",
      "text/plain": [
       "<Figure size 1152x576 with 1 Axes>"
      ]
     },
     "metadata": {},
     "output_type": "display_data"
    }
   ],
   "source": [
    "month_df_avg.plot(figsize=(16,8))"
   ]
  },
  {
   "cell_type": "markdown",
   "metadata": {},
   "source": [
    "Now it may seem that there are huge changes, but that's just some vertical exaggeration here. Everybody is falling between 3 - 4mm, which is a very tiny range."
   ]
  },
  {
   "cell_type": "markdown",
   "metadata": {},
   "source": [
    "## Print useable table of values"
   ]
  },
  {
   "cell_type": "code",
   "execution_count": 26,
   "metadata": {
    "collapsed": true
   },
   "outputs": [],
   "source": [
    "month_df_sum.to_csv(\"results/Hamon_month_total.csv\")\n",
    "month_df_avg.to_csv(\"results/Hamon_month_average.csv\")"
   ]
  },
  {
   "cell_type": "markdown",
   "metadata": {},
   "source": [
    "## Comparison"
   ]
  },
  {
   "cell_type": "markdown",
   "metadata": {},
   "source": [
    "How does this compare with the actual recorded loss from the evaporation pan? Let's find out. We want the date, water level, and rainfall columns"
   ]
  },
  {
   "cell_type": "code",
   "execution_count": 28,
   "metadata": {
    "scrolled": false
   },
   "outputs": [
    {
     "name": "stderr",
     "output_type": "stream",
     "text": [
      "/usr/local/lib/python3.5/dist-packages/ipykernel_launcher.py:3: SettingWithCopyWarning: \n",
      "A value is trying to be set on a copy of a slice from a DataFrame\n",
      "\n",
      "See the caveats in the documentation: http://pandas.pydata.org/pandas-docs/stable/indexing.html#indexing-view-versus-copy\n",
      "  This is separate from the ipykernel package so we can avoid doing imports until\n",
      "/usr/local/lib/python3.5/dist-packages/ipykernel_launcher.py:4: SettingWithCopyWarning: \n",
      "A value is trying to be set on a copy of a slice from a DataFrame.\n",
      "Try using .loc[row_indexer,col_indexer] = value instead\n",
      "\n",
      "See the caveats in the documentation: http://pandas.pydata.org/pandas-docs/stable/indexing.html#indexing-view-versus-copy\n",
      "  after removing the cwd from sys.path.\n"
     ]
    },
    {
     "data": {
      "text/html": [
       "<div>\n",
       "<style scoped>\n",
       "    .dataframe tbody tr th:only-of-type {\n",
       "        vertical-align: middle;\n",
       "    }\n",
       "\n",
       "    .dataframe tbody tr th {\n",
       "        vertical-align: top;\n",
       "    }\n",
       "\n",
       "    .dataframe thead th {\n",
       "        text-align: right;\n",
       "    }\n",
       "</style>\n",
       "<table border=\"1\" class=\"dataframe\">\n",
       "  <thead>\n",
       "    <tr style=\"text-align: right;\">\n",
       "      <th></th>\n",
       "      <th>date</th>\n",
       "      <th>level</th>\n",
       "      <th>rainfall</th>\n",
       "    </tr>\n",
       "  </thead>\n",
       "  <tbody>\n",
       "    <tr>\n",
       "      <th>0</th>\n",
       "      <td>2014-07-17</td>\n",
       "      <td>221.5</td>\n",
       "      <td>0.0</td>\n",
       "    </tr>\n",
       "    <tr>\n",
       "      <th>1</th>\n",
       "      <td>2014-07-17</td>\n",
       "      <td>221.4</td>\n",
       "      <td>0.0</td>\n",
       "    </tr>\n",
       "    <tr>\n",
       "      <th>2</th>\n",
       "      <td>2014-07-17</td>\n",
       "      <td>221.3</td>\n",
       "      <td>0.0</td>\n",
       "    </tr>\n",
       "    <tr>\n",
       "      <th>3</th>\n",
       "      <td>2014-07-17</td>\n",
       "      <td>220.9</td>\n",
       "      <td>0.0</td>\n",
       "    </tr>\n",
       "    <tr>\n",
       "      <th>4</th>\n",
       "      <td>2014-07-17</td>\n",
       "      <td>220.8</td>\n",
       "      <td>0.0</td>\n",
       "    </tr>\n",
       "  </tbody>\n",
       "</table>\n",
       "</div>"
      ],
      "text/plain": [
       "        date  level  rainfall\n",
       "0 2014-07-17  221.5       0.0\n",
       "1 2014-07-17  221.4       0.0\n",
       "2 2014-07-17  221.3       0.0\n",
       "3 2014-07-17  220.9       0.0\n",
       "4 2014-07-17  220.8       0.0"
      ]
     },
     "execution_count": 28,
     "metadata": {},
     "output_type": "execute_result"
    }
   ],
   "source": [
    "loss_df = hollis[[\"Date / Time\", \"HBr3W\", \"Rain mm (Tot)\"]]    \n",
    "loss_df.columns = ['date', 'level', 'rainfall']\n",
    "loss_df.dropna(axis=0, subset=['rainfall'], inplace=True)\n",
    "loss_df['date'] = pd.to_datetime(loss_df.date).dt.normalize()\n",
    "loss_df.head()"
   ]
  },
  {
   "cell_type": "code",
   "execution_count": 29,
   "metadata": {},
   "outputs": [
    {
     "data": {
      "text/html": [
       "<div>\n",
       "<style scoped>\n",
       "    .dataframe tbody tr th:only-of-type {\n",
       "        vertical-align: middle;\n",
       "    }\n",
       "\n",
       "    .dataframe tbody tr th {\n",
       "        vertical-align: top;\n",
       "    }\n",
       "\n",
       "    .dataframe thead th {\n",
       "        text-align: right;\n",
       "    }\n",
       "</style>\n",
       "<table border=\"1\" class=\"dataframe\">\n",
       "  <thead>\n",
       "    <tr style=\"text-align: right;\">\n",
       "      <th></th>\n",
       "      <th>date</th>\n",
       "      <th>rainfall</th>\n",
       "      <th>level</th>\n",
       "    </tr>\n",
       "  </thead>\n",
       "  <tbody>\n",
       "    <tr>\n",
       "      <th>0</th>\n",
       "      <td>2014-07-17</td>\n",
       "      <td>4.572</td>\n",
       "      <td>221.5</td>\n",
       "    </tr>\n",
       "    <tr>\n",
       "      <th>1</th>\n",
       "      <td>2014-07-18</td>\n",
       "      <td>25.398</td>\n",
       "      <td>223.8</td>\n",
       "    </tr>\n",
       "    <tr>\n",
       "      <th>2</th>\n",
       "      <td>2014-07-19</td>\n",
       "      <td>14.478</td>\n",
       "      <td>247.1</td>\n",
       "    </tr>\n",
       "    <tr>\n",
       "      <th>3</th>\n",
       "      <td>2014-07-20</td>\n",
       "      <td>56.646</td>\n",
       "      <td>259.8</td>\n",
       "    </tr>\n",
       "    <tr>\n",
       "      <th>4</th>\n",
       "      <td>2014-07-21</td>\n",
       "      <td>1.524</td>\n",
       "      <td>269.2</td>\n",
       "    </tr>\n",
       "  </tbody>\n",
       "</table>\n",
       "</div>"
      ],
      "text/plain": [
       "        date  rainfall  level\n",
       "0 2014-07-17     4.572  221.5\n",
       "1 2014-07-18    25.398  223.8\n",
       "2 2014-07-19    14.478  247.1\n",
       "3 2014-07-20    56.646  259.8\n",
       "4 2014-07-21     1.524  269.2"
      ]
     },
     "execution_count": 29,
     "metadata": {},
     "output_type": "execute_result"
    }
   ],
   "source": [
    "loss_df = loss_df.groupby('date', as_index=False, sort=False).agg({'level':'first', 'rainfall': 'sum'})\n",
    "loss_df.head()"
   ]
  },
  {
   "cell_type": "markdown",
   "metadata": {},
   "source": [
    "Need to somehow get the daily change in water level. Diff() function is perfect. Thanks Pandas"
   ]
  },
  {
   "cell_type": "code",
   "execution_count": 30,
   "metadata": {},
   "outputs": [
    {
     "data": {
      "text/html": [
       "<div>\n",
       "<style scoped>\n",
       "    .dataframe tbody tr th:only-of-type {\n",
       "        vertical-align: middle;\n",
       "    }\n",
       "\n",
       "    .dataframe tbody tr th {\n",
       "        vertical-align: top;\n",
       "    }\n",
       "\n",
       "    .dataframe thead th {\n",
       "        text-align: right;\n",
       "    }\n",
       "</style>\n",
       "<table border=\"1\" class=\"dataframe\">\n",
       "  <thead>\n",
       "    <tr style=\"text-align: right;\">\n",
       "      <th></th>\n",
       "      <th>date</th>\n",
       "      <th>rainfall</th>\n",
       "      <th>level</th>\n",
       "      <th>diff</th>\n",
       "    </tr>\n",
       "  </thead>\n",
       "  <tbody>\n",
       "    <tr>\n",
       "      <th>0</th>\n",
       "      <td>2014-07-17</td>\n",
       "      <td>4.572</td>\n",
       "      <td>221.5</td>\n",
       "      <td>NaN</td>\n",
       "    </tr>\n",
       "    <tr>\n",
       "      <th>1</th>\n",
       "      <td>2014-07-18</td>\n",
       "      <td>25.398</td>\n",
       "      <td>223.8</td>\n",
       "      <td>2.3</td>\n",
       "    </tr>\n",
       "    <tr>\n",
       "      <th>2</th>\n",
       "      <td>2014-07-19</td>\n",
       "      <td>14.478</td>\n",
       "      <td>247.1</td>\n",
       "      <td>23.3</td>\n",
       "    </tr>\n",
       "    <tr>\n",
       "      <th>3</th>\n",
       "      <td>2014-07-20</td>\n",
       "      <td>56.646</td>\n",
       "      <td>259.8</td>\n",
       "      <td>12.7</td>\n",
       "    </tr>\n",
       "    <tr>\n",
       "      <th>4</th>\n",
       "      <td>2014-07-21</td>\n",
       "      <td>1.524</td>\n",
       "      <td>269.2</td>\n",
       "      <td>9.4</td>\n",
       "    </tr>\n",
       "  </tbody>\n",
       "</table>\n",
       "</div>"
      ],
      "text/plain": [
       "        date  rainfall  level  diff\n",
       "0 2014-07-17     4.572  221.5   NaN\n",
       "1 2014-07-18    25.398  223.8   2.3\n",
       "2 2014-07-19    14.478  247.1  23.3\n",
       "3 2014-07-20    56.646  259.8  12.7\n",
       "4 2014-07-21     1.524  269.2   9.4"
      ]
     },
     "execution_count": 30,
     "metadata": {},
     "output_type": "execute_result"
    }
   ],
   "source": [
    "loss_df['diff'] = loss_df.level.diff(periods=1) \n",
    "loss_df.head()"
   ]
  },
  {
   "cell_type": "markdown",
   "metadata": {},
   "source": [
    "And now a rough estimate for evaporation. How often is the evap pan topped up, and to what level? Assume that the pan is not topped up at all in this dataset. The pan overflows at 270"
   ]
  }
 ],
 "metadata": {
  "kernelspec": {
   "display_name": "Python 3",
   "language": "python",
   "name": "python3"
  },
  "language_info": {
   "codemirror_mode": {
    "name": "ipython",
    "version": 3
   },
   "file_extension": ".py",
   "mimetype": "text/x-python",
   "name": "python",
   "nbconvert_exporter": "python",
   "pygments_lexer": "ipython3",
   "version": "3.6.1"
  }
 },
 "nbformat": 4,
 "nbformat_minor": 2
}
